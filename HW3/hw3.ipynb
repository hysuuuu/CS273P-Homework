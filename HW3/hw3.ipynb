{
  "cells": [
    {
      "cell_type": "markdown",
      "metadata": {
        "id": "7D3Ga2BYkhSi"
      },
      "source": [
        "# Homework 3\n",
        "#### CS 273P Machine Learning and Data Mining (Winter 2025)\n",
        "\n",
        "* Q1: Common PyTorch Operations (20 points)\n",
        "* Q2: Linear Modeling on Titanic Dataset (75 points)\n",
        "* Statement of Collaboration (5 points)\n",
        "\n",
        "## Submission guidelines\n",
        "Once you have completed the assignment in this notebook, you should export a PDF from this notebook and submit it to Gradescope. You do not need to submit anything else. Make sure your PDF contains your code, the output of each cell, and your results are not blocked or clipped significantly. Once your PDF is uploaded to Gradescope, you will be prompted to match each question with the pages in your PDF, please make sure you complete this step and do it correctly. Since this is the second assignment, and we have made our submission guidelines clear, we will not accept any submission that does not follow the guidelines."
      ]
    },
    {
      "cell_type": "markdown",
      "metadata": {
        "id": "gKohEFLNkhSl"
      },
      "source": [
        "## Question 1: Common PyTorch Operations\n",
        "You have used PyTorch in your last assignment. In this question, let's get to know PyTorch better by performing some common operations. In practice, you will be using these operations frequently.\n",
        "\n",
        "For now, import PyTorch first. If you don't have it installed, you can install it by running `!pip install torch` in a code cell.\n",
        "\n",
        "In addition, you may find their documentation to learn more: https://pytorch.org/docs/stable/index.html"
      ]
    },
    {
      "cell_type": "code",
      "execution_count": null,
      "metadata": {
        "id": "y2JznewJkhSm"
      },
      "outputs": [],
      "source": [
        "import torch\n",
        "import numpy as np"
      ]
    },
    {
      "cell_type": "markdown",
      "metadata": {
        "id": "cFcOJbdykhSn"
      },
      "source": [
        "### Question 1.1: Tensor Operations (5 points)\n",
        "In this question, we will look at some common code snippets you will encounter when working with PyTorch tensors."
      ]
    },
    {
      "cell_type": "code",
      "execution_count": 156,
      "metadata": {
        "colab": {
          "base_uri": "https://localhost:8080/",
          "height": 0
        },
        "id": "g6EwiLdykhSn",
        "outputId": "78a20df8-7290-485f-ce23-e819b5146f79"
      },
      "outputs": [
        {
          "output_type": "stream",
          "name": "stdout",
          "text": [
            "Shape of tensor A:  torch.Size([2, 2])\n",
            "A * B =  tensor([[1, 2],\n",
            "        [3, 4]])\n",
            "Shape of concatenated B and C: torch.Size([4, 2])\n",
            "Reshaped A:  tensor([1, 2, 3, 4])\n",
            "Random tensor:  tensor([[0.3233, 0.2995, 0.5188],\n",
            "        [0.6759, 0.5293, 0.3096],\n",
            "        [0.0694, 0.6286, 0.2765]])\n"
          ]
        }
      ],
      "source": [
        "# Create a 2D tensor\n",
        "A = torch.tensor([[1, 2], [3, 4]])\n",
        "# Create an all-ones tensor with the same shape as A\n",
        "B = torch.ones_like(A)\n",
        "# Create an all-zeros tensor with the same shape as A\n",
        "C = torch.zeros_like(A)\n",
        "\n",
        "# print(B)\n",
        "# print(C)\n",
        "##### Your code starts here #####\n",
        "\n",
        "# Print out the shape of tensor A\n",
        "print(\"Shape of tensor A: \", A.shape)\n",
        "\n",
        "# Print out the result of multiplying tensor A with tensor B\n",
        "print(\"A * B = \", A * B)\n",
        "\n",
        "# Concatenate B and C along dimension 0 and print out the shape of the result\n",
        "BC_concat = torch.cat((B, C), dim=0)\n",
        "print(\"Shape of concatenated B and C:\", BC_concat.shape)\n",
        "\n",
        "# Reshape A into a 1D tensor and print out A\n",
        "print(\"Reshaped A: \", A.view(-1))\n",
        "\n",
        "# Create a random tensor of shape (3, 3) with values from 0 to 1 and print out the tensor\n",
        "print(\"Random tensor: \", torch.rand(3, 3))\n"
      ]
    },
    {
      "cell_type": "markdown",
      "metadata": {
        "id": "GOqTqZd-khSo"
      },
      "source": [
        "### Question 1.2: Autograd (5 points)\n",
        "Autograd is a feature offered by PyTorch that automatically computes gradients for tensors, this facilitates the updating of model parameters during training. In this question, you will work with autograd to compute gradients for a tensor."
      ]
    },
    {
      "cell_type": "code",
      "execution_count": 157,
      "metadata": {
        "colab": {
          "base_uri": "https://localhost:8080/",
          "height": 0
        },
        "id": "cosoku_kkhSo",
        "outputId": "b5e400de-9928-4b6b-c94e-e3325ade0083"
      },
      "outputs": [
        {
          "output_type": "stream",
          "name": "stdout",
          "text": [
            "Gradient:  tensor([1., 4.])\n"
          ]
        }
      ],
      "source": [
        "# Define a simple function\n",
        "def f(x):\n",
        "    return x[0] + x[1] * x[1]\n",
        "\n",
        "\n",
        "##### Your code starts here #####\n",
        "\n",
        "# Create a 2-element 1D tensor `param` with automatic differentiation enabled\n",
        "# hint: use argument `requires_grad`\n",
        "param = torch.tensor([1.0, 2.0], requires_grad=True)\n",
        "\n",
        "# Calculate the gradient of f with respect to `param`\n",
        "# hint: use `torch.autograd.grad` function\n",
        "y = f(param)\n",
        "gradient = torch.autograd.grad(y, param)\n",
        "\n",
        "# Print out the gradient\n",
        "print(\"Gradient: \", gradient[0])\n"
      ]
    },
    {
      "cell_type": "markdown",
      "metadata": {
        "id": "V3--yHhMkhSp"
      },
      "source": [
        "### Question 1.3: The Neural Network Module (5 points)\n",
        "`torch.nn` provides a simple way to define neural network architectures. In this question, you will use `torch.nn` to define a simple linear model."
      ]
    },
    {
      "cell_type": "code",
      "execution_count": 164,
      "metadata": {
        "colab": {
          "base_uri": "https://localhost:8080/",
          "height": 0
        },
        "id": "Tp9x_ka5khSp",
        "outputId": "5257d817-ee69-4c6a-da7a-69f750857c2b"
      },
      "outputs": [
        {
          "output_type": "stream",
          "name": "stdout",
          "text": [
            "Output:  tensor([[0.9271]], grad_fn=<AddmmBackward0>)\n"
          ]
        }
      ],
      "source": [
        "##### Your code starts here #####\n",
        "\n",
        "# Create a Linear model using torch.nn.Linear, with input size 4 and output size 1\n",
        "model = torch.nn.Linear(in_features=4, out_features=1)\n",
        "\n",
        "# Create 1D input tensor of size 4\n",
        "input = torch.tensor([1.0, 2.0, 3.0, 4.0]).view(1, -1)\n",
        "\n",
        "# Print out the output of the model given the input tensor\n",
        "print(\"Output: \", model(input))\n"
      ]
    },
    {
      "cell_type": "markdown",
      "metadata": {
        "id": "UN-qOc24khSp"
      },
      "source": [
        "### Question 1.4: Computing Devices (5 points)\n",
        "PyTorch allows you to run your code on different devices, such as CPUs and GPUs. In this question, we will be checking for a CUDA device (NVIDIA GPU) and move data to and from it if available (don't worry if you don't have a CUDA-compatible GPU)."
      ]
    },
    {
      "cell_type": "code",
      "execution_count": null,
      "metadata": {
        "colab": {
          "base_uri": "https://localhost:8080/"
        },
        "id": "jG_V6frUkhSq",
        "outputId": "c388cabd-0b85-487e-d3db-16538e5bfc38"
      },
      "outputs": [
        {
          "output_type": "stream",
          "name": "stdout",
          "text": [
            "Tensor's device:  cpu\n"
          ]
        }
      ],
      "source": [
        "cuda_available = torch.cuda.is_available()  # Check if a CUDA GPU is available\n",
        "\n",
        "##### Your code starts here #####\n",
        "\n",
        "# Define the device to be used\n",
        "device = torch.device(\"cuda\" if cuda_available else \"cpu\")\n",
        "\n",
        "# Create a 4x4 tensor and move it to the device\n",
        "tensor = torch.rand(4, 4).to(device)\n",
        "\n",
        "# Print out the tensor's device\n",
        "print(\"Tensor's device: \", tensor.device)\n",
        "\n",
        "# Move it back to the CPU device\n",
        "tensor_cpu = tensor.to(\"cpu\")\n"
      ]
    },
    {
      "cell_type": "markdown",
      "metadata": {
        "id": "t0uFxJ9ekhSq"
      },
      "source": [
        "## Question 2: Linear Modeling on Titanic Dataset\n",
        "\n",
        "The sinking of the Titanic is one of the most infamous shipwrecks in history.\n",
        "\n",
        "On April 15, 1912, during her maiden voyage, the widely considered “unsinkable” RMS Titanic sank after colliding with an iceberg. Unfortunately, there weren’t enough lifeboats for everyone onboard, resulting in the death of 1502 out of 2224 passengers and crew.\n",
        "\n",
        "While there was some element of luck involved in surviving, it seems some groups of people were more likely to survive than others.\n",
        "\n",
        "In this question, we ask you to build a linear model that answers the question: “what sorts of people were more likely to survive?” using passenger data (ie name, age, gender, socio-economic class, etc).\n",
        "\n",
        "![titanic.png](attachment:titanic.png)\n",
        "\n",
        "Why did Rose survive and Jack didn't? Let's find out!\n",
        "\n",
        "![titanic-meme.png](attachment:titanic-meme.png)"
      ]
    },
    {
      "cell_type": "markdown",
      "metadata": {
        "id": "hiXBt-g5khSs"
      },
      "source": [
        "### Question 2.1: Data Preprocessing (25 points)\n",
        "Real world data is often messy and requires preprocessing before it can be used for modeling. This procedure is ubiquitous in real-world applications and is often referred to as \"data cleaning\" and \"feature engineering\". In this question, you will preprocess the Titanic dataset. The dataset can be found in the data folder.\n",
        "\n",
        "In this question, we will be using Pandas, a powerful tool for tabular data manipulation. If you don't have it installed, you can install it by running `!pip install pandas` in a code cell.\n",
        "\n",
        "Before we start, let's load the dataset and take a look at the first few rows.\n"
      ]
    },
    {
      "cell_type": "code",
      "execution_count": 86,
      "metadata": {
        "id": "E3oy67tBkhSs",
        "colab": {
          "base_uri": "https://localhost:8080/",
          "height": 0
        },
        "outputId": "966d09b2-b1c8-4a78-dc35-60a176ace69a"
      },
      "outputs": [
        {
          "output_type": "stream",
          "name": "stdout",
          "text": [
            "Index(['PassengerId', 'Survived', 'Pclass', 'Name', 'Sex', 'Age', 'SibSp',\n",
            "       'Parch', 'Ticket', 'Fare', 'Cabin', 'Embarked'],\n",
            "      dtype='object')\n",
            "(891, 12)\n",
            "   PassengerId  Survived  Pclass  \\\n",
            "0            1         0       3   \n",
            "1            2         1       1   \n",
            "2            3         1       3   \n",
            "3            4         1       1   \n",
            "4            5         0       3   \n",
            "\n",
            "                                                Name     Sex   Age  SibSp  \\\n",
            "0                            Braund, Mr. Owen Harris    male  22.0      1   \n",
            "1  Cumings, Mrs. John Bradley (Florence Briggs Th...  female  38.0      1   \n",
            "2                             Heikkinen, Miss. Laina  female  26.0      0   \n",
            "3       Futrelle, Mrs. Jacques Heath (Lily May Peel)  female  35.0      1   \n",
            "4                           Allen, Mr. William Henry    male  35.0      0   \n",
            "\n",
            "   Parch            Ticket     Fare Cabin Embarked  \n",
            "0      0         A/5 21171   7.2500   NaN        S  \n",
            "1      0          PC 17599  71.2833   C85        C  \n",
            "2      0  STON/O2. 3101282   7.9250   NaN        S  \n",
            "3      0            113803  53.1000  C123        S  \n",
            "4      0            373450   8.0500   NaN        S  \n"
          ]
        }
      ],
      "source": [
        "import pandas as pd\n",
        "\n",
        "# Load the titanic dataset\n",
        "path = \"data/titanic/train.csv\"\n",
        "data = pd.read_csv(path)\n",
        "\n",
        "# Print out the column names\n",
        "print(data.columns)\n",
        "\n",
        "# Print out the shape of the dataset\n",
        "print(data.shape)\n",
        "\n",
        "# Print out the first 5 rows of the dataset\n",
        "print(data.head(5))"
      ]
    },
    {
      "cell_type": "markdown",
      "metadata": {
        "id": "HqLjhsOrkhSs"
      },
      "source": [
        "Here's some information about the columns in the dataset:\n",
        "* PassengerId: Unique identifier for each passenger (index, not predictive).\n",
        "* Survived: Target variable (0 = did not survive, 1 = survived).\n",
        "* Pclass: Travel class (1 = upper, 2 = middle, 3 = lower).\n",
        "* Name: Full name, may contain titles indicating social status.\n",
        "* Sex: Gender of the passenger (male/female).\n",
        "* Age: Passenger's age in years (missing values exist).\n",
        "* SibSp: Number of siblings/spouses aboard.\n",
        "* Parch: Number of parents/children aboard.\n",
        "* Ticket: Ticket number (possible grouping or class info).\n",
        "* Fare: Ticket fare paid (proxy for socio-economic status).\n",
        "* Cabin: Cabin number (location on ship, many missing values).\n",
        "* Embarked: Port of boarding (C = Cherbourg, Q = Queenstown, S = Southampton).\n",
        "\n",
        "Based on your intuition, do you think all of the columns are useful for predicting survival? If not, which columns can be dropped? (Answer in the markdown cell below)\n"
      ]
    },
    {
      "cell_type": "markdown",
      "metadata": {
        "id": "6qHghPuOkhSs"
      },
      "source": [
        "Not all columns are useful. These columns can be dropped:\n",
        "\n",
        "1.   PassengerId: just index, not predictive.\n",
        "\n",
        "2.   Cabin: many missing values.\n",
        "\n",
        "\n",
        "\n",
        "\n"
      ]
    },
    {
      "cell_type": "markdown",
      "metadata": {
        "id": "6jaLhlEBkhSs"
      },
      "source": [
        "Building on your previous answer, drop the columns that you think are not useful for predicting survival."
      ]
    },
    {
      "cell_type": "code",
      "execution_count": 87,
      "metadata": {
        "id": "4et-uS6ikhSt",
        "colab": {
          "base_uri": "https://localhost:8080/",
          "height": 0
        },
        "outputId": "f7033d58-dc40-423c-aea3-01525c057c54"
      },
      "outputs": [
        {
          "output_type": "stream",
          "name": "stdout",
          "text": [
            "(891, 10)\n",
            "   Survived  Pclass                                               Name  \\\n",
            "0         0       3                            Braund, Mr. Owen Harris   \n",
            "1         1       1  Cumings, Mrs. John Bradley (Florence Briggs Th...   \n",
            "2         1       3                             Heikkinen, Miss. Laina   \n",
            "3         1       1       Futrelle, Mrs. Jacques Heath (Lily May Peel)   \n",
            "4         0       3                           Allen, Mr. William Henry   \n",
            "\n",
            "      Sex   Age  SibSp  Parch            Ticket     Fare Embarked  \n",
            "0    male  22.0      1      0         A/5 21171   7.2500        S  \n",
            "1  female  38.0      1      0          PC 17599  71.2833        C  \n",
            "2  female  26.0      0      0  STON/O2. 3101282   7.9250        S  \n",
            "3  female  35.0      1      0            113803  53.1000        S  \n",
            "4    male  35.0      0      0            373450   8.0500        S  \n"
          ]
        }
      ],
      "source": [
        "##### Your code starts here #####\n",
        "\n",
        "# Drop unnecessary columns\n",
        "cleaned_data = data.drop(columns=[\"PassengerId\", \"Cabin\"])\n",
        "\n",
        "# Print out the shape of the dataset\n",
        "print(cleaned_data.shape)\n",
        "\n",
        "# Print out the first 5 rows of the dataset\n",
        "print(cleaned_data.head(5))\n"
      ]
    },
    {
      "cell_type": "markdown",
      "metadata": {
        "id": "hW1PRULNkhSt"
      },
      "source": [
        "Some of the columns in the dataset seems to have missing values, why and how would you handle missing values in the dataset? Try to propose other ways compared to the method below. (Answer in the markdown cell below)"
      ]
    },
    {
      "cell_type": "markdown",
      "metadata": {
        "id": "crSdcj3fkhSt"
      },
      "source": [
        "For columns with a large number of missing values, I'll simply drop them.\n",
        "However, if the number of missing values is acceptable, such as in the \"Age\" column, I'll fill them using a mean or median value."
      ]
    },
    {
      "cell_type": "markdown",
      "metadata": {
        "id": "w2udQ_h4khSt"
      },
      "source": [
        "For now, we use the median value to fill the missing numerical values, and the most frequent value to fill the missing categorical values."
      ]
    },
    {
      "cell_type": "code",
      "execution_count": 88,
      "metadata": {
        "id": "EbrBrlAHkhSt"
      },
      "outputs": [],
      "source": [
        "##### Your code starts here #####\n",
        "\n",
        "# Fill missing values in the \"Age\" column with the median age\n",
        "cleaned_data[\"Age\"] = cleaned_data[\"Age\"].fillna(cleaned_data[\"Age\"].median())\n",
        "\n",
        "# Fill missing values in the \"Embarked\" column with the most common port\n",
        "cleaned_data[\"Embarked\"] = cleaned_data[\"Embarked\"].fillna(cleaned_data[\"Embarked\"].mode()[0])\n"
      ]
    },
    {
      "cell_type": "markdown",
      "metadata": {
        "id": "Io9NMNnzkhSt"
      },
      "source": [
        "Lastly, we know that computers can't handle textural data directly, so we need to convert the categorical columns into numerical columns. One common way to do this is by using one-hot encoding. It creates an one-to-one mapping between the categorical values and the numerical values."
      ]
    },
    {
      "cell_type": "code",
      "execution_count": 89,
      "metadata": {
        "id": "2skJTKtAkhSt",
        "colab": {
          "base_uri": "https://localhost:8080/",
          "height": 0
        },
        "outputId": "c54654c7-4f2d-4ed9-f30f-877ef13130af"
      },
      "outputs": [
        {
          "output_type": "stream",
          "name": "stdout",
          "text": [
            "   Survived  Pclass   Age  SibSp  Parch     Fare  Sex_male  Embarked_Q  \\\n",
            "0         0       3  22.0      1      0   7.2500      True       False   \n",
            "1         1       1  38.0      1      0  71.2833     False       False   \n",
            "2         1       3  26.0      0      0   7.9250     False       False   \n",
            "3         1       1  35.0      1      0  53.1000     False       False   \n",
            "4         0       3  35.0      0      0   8.0500      True       False   \n",
            "\n",
            "   Embarked_S  \n",
            "0        True  \n",
            "1       False  \n",
            "2        True  \n",
            "3        True  \n",
            "4        True  \n"
          ]
        }
      ],
      "source": [
        "##### Your code starts here #####\n",
        "\n",
        "# Do one-hot encoding on the categorical columns\n",
        "# hint: there's a pandas function that helps you do this\n",
        "cleaned_data = pd.get_dummies(cleaned_data, columns = [\"Sex\", \"Embarked\"], drop_first=True)\n",
        "# not using one-hot encoding on \"Name\" and \"Ticket\" because there are too many unique values\n",
        "cleaned_data = cleaned_data.drop(columns=[\"Name\", \"Ticket\"])  # dropping these two because they're object and not suitable for one-hot encoding\n",
        "\n",
        "# Print first few rows to verify\n",
        "print(cleaned_data.head())"
      ]
    },
    {
      "cell_type": "markdown",
      "metadata": {
        "id": "6vpQR4YZkhSt"
      },
      "source": [
        "Before we can use this data for training, we should split the data into features and target. In addition, you need to make sure that your dataset has no missing values and all columns are numerical."
      ]
    },
    {
      "cell_type": "code",
      "execution_count": 147,
      "metadata": {
        "id": "SHmY3fVNkhSu",
        "colab": {
          "base_uri": "https://localhost:8080/",
          "height": 0
        },
        "outputId": "3ec8828d-ce8b-48f1-839e-3054493c414a"
      },
      "outputs": [
        {
          "output_type": "stream",
          "name": "stdout",
          "text": [
            "0\n",
            "Survived        int64\n",
            "Pclass          int64\n",
            "Age           float64\n",
            "SibSp           int64\n",
            "Parch           int64\n",
            "Fare          float64\n",
            "Sex_male         bool\n",
            "Embarked_Q       bool\n",
            "Embarked_S       bool\n",
            "dtype: object\n"
          ]
        }
      ],
      "source": [
        "X = cleaned_data.drop(columns=[\"Survived\"]) # features\n",
        "y = cleaned_data[\"Survived\"]                # target\n",
        "\n",
        "# Check if there are any missing values in the dataset\n",
        "print(cleaned_data.isnull().sum().sum())    # this should return 0\n",
        "\n",
        "# Check if all columns are numeric\n",
        "print(cleaned_data.dtypes)                  # all columns should be numeric (or boolean)"
      ]
    },
    {
      "cell_type": "markdown",
      "metadata": {
        "id": "C9q8-B_okhSu"
      },
      "source": [
        "Now let's do the same for our test dataset."
      ]
    },
    {
      "cell_type": "code",
      "execution_count": 148,
      "metadata": {
        "id": "8k7_Dd5XkhSu",
        "colab": {
          "base_uri": "https://localhost:8080/",
          "height": 0
        },
        "outputId": "f38f7e19-2a31-4291-8813-b48a447a23a6"
      },
      "outputs": [
        {
          "output_type": "stream",
          "name": "stdout",
          "text": [
            "0\n",
            "Pclass          int64\n",
            "Age           float64\n",
            "SibSp           int64\n",
            "Parch           int64\n",
            "Fare          float64\n",
            "Survived        int64\n",
            "Sex_male         bool\n",
            "Embarked_Q       bool\n",
            "Embarked_S       bool\n",
            "dtype: object\n"
          ]
        }
      ],
      "source": [
        "path = \"data/titanic/test.csv\"\n",
        "test_data = pd.read_csv(path)\n",
        "target_path = \"data/titanic/gender_submission.csv\"\n",
        "target = pd.read_csv(target_path)\n",
        "# Merge the test data with the target data\n",
        "test_data = pd.merge(test_data, target, on=\"PassengerId\")\n",
        "\n",
        "##### Your code starts here #####\n",
        "\n",
        "# Same preprocessing steps for the test set\n",
        "\n",
        "# Drop unnecessary columns\n",
        "test_data = test_data.drop(columns=[\"PassengerId\", \"Cabin\", \"Name\", \"Ticket\"])\n",
        "\n",
        "# Fill missing values\n",
        "test_data[\"Age\"] = test_data[\"Age\"].fillna(test_data[\"Age\"].median())\n",
        "test_data[\"Embarked\"] = test_data[\"Embarked\"].fillna(test_data[\"Embarked\"].mode()[0])\n",
        "test_data[\"Fare\"] = test_data[\"Fare\"].fillna(test_data[\"Fare\"].median())\n",
        "# Do one-hot encoding\n",
        "test_data = pd.get_dummies(test_data, columns = [\"Sex\", \"Embarked\"], drop_first=True)\n",
        "\n",
        "# Split the test set into features and target\n",
        "# Check for missing values\n",
        "# Check for non-numeric columns\n",
        "test_X = test_data.drop(columns=[\"Survived\"]) # features\n",
        "test_y = test_data[\"Survived\"]                # target\n",
        "print(test_data.isnull().sum().sum())\n",
        "print(test_data.dtypes)\n",
        "\n",
        "# print(test_data.isnull().sum())"
      ]
    },
    {
      "cell_type": "markdown",
      "metadata": {
        "id": "X3Vs-yBBkhSu"
      },
      "source": [
        "Lastly, we convert the data into PyTorch tensors before giving it to our model."
      ]
    },
    {
      "cell_type": "code",
      "execution_count": 149,
      "metadata": {
        "id": "tiHLwhsukhSu",
        "colab": {
          "base_uri": "https://localhost:8080/",
          "height": 0
        },
        "outputId": "bc297839-354a-4cb1-af90-a6eaa9b5ddaf"
      },
      "outputs": [
        {
          "output_type": "stream",
          "name": "stdout",
          "text": [
            "Test X tensor shape: torch.Size([418, 8])\n",
            "Test y tensor shape: torch.Size([418, 1])\n"
          ]
        }
      ],
      "source": [
        "# Convert the data to PyTorch tensors\n",
        "X = X.to_numpy(dtype=np.float32)\n",
        "X_tensor = torch.tensor(X, dtype=torch.float32)\n",
        "y_tensor = torch.tensor(y.values, dtype=torch.float32).view(-1, 1)\n",
        "\n",
        "\n",
        "##### Your code starts here #####\n",
        "\n",
        "# Convert the test data as well\n",
        "test_X = test_X.to_numpy(dtype=np.float32)\n",
        "test_X_tensor = torch.tensor(test_X, dtype=torch.float32)\n",
        "test_y_tensor = torch.tensor(test_y.values, dtype=torch.float32).view(-1, 1)\n",
        "\n",
        "print(\"Test X tensor shape:\", test_X_tensor.shape)\n",
        "print(\"Test y tensor shape:\", test_y_tensor.shape)"
      ]
    },
    {
      "cell_type": "markdown",
      "metadata": {
        "id": "jJkux_fCkhSu"
      },
      "source": [
        "### Question 2.2: Building a Linear Model (10 points)\n",
        "In this question, you will build a linear model using PyTorch to predict the survival of passengers on the Titanic. Note that the input to the model should be the features of the passengers and the output should be the predicted survival status of the passengers.\n",
        "\n",
        "Take a look at the skeleton code below, you will see that this class inherits from `torch.nn.Module` and has a method called `forward`. You will see this structure in almost all PyTorch model implementations."
      ]
    },
    {
      "cell_type": "code",
      "execution_count": 150,
      "metadata": {
        "id": "gCid0dQ9khSv"
      },
      "outputs": [],
      "source": [
        "class LinearModel(torch.nn.Module):\n",
        "    def __init__(self, input_dim):\n",
        "        \"\"\"\n",
        "        Model initialized with the dimension of the input features\n",
        "        \"\"\"\n",
        "        super(LinearModel, self).__init__()\n",
        "\n",
        "        ##### Your code starts here #####\n",
        "\n",
        "        # Define some basic linear layers\n",
        "        self.linear = torch.nn.Linear(input_dim, 1)\n",
        "        self.activation = torch.nn.Sigmoid()\n",
        "\n",
        "    def forward(self, x):\n",
        "        \"\"\"\n",
        "        The forward pass of the model\n",
        "        \"\"\"\n",
        "        # Implement the forward method\n",
        "        x = self.linear(x)\n",
        "        x = self.activation(x)\n",
        "        return x\n"
      ]
    },
    {
      "cell_type": "markdown",
      "metadata": {
        "id": "eGFKcb4gkhSv"
      },
      "source": [
        "### Question 2.3: Training the Model (10 points)\n",
        "In this question, you will train the model using the training data. Training a model typically involves 4 essential components:\n",
        "\n",
        "* model\n",
        "* training data\n",
        "* loss function: target function for the model to minimize\n",
        "* optimizer: the algorithm to update the model parameters\n",
        "\n",
        "This is true for almost all machine learning systems, from simple linear regressors to large language models with billions of parameters. Thus, it is essential for you to understand what each of these components do.\n",
        "\n",
        "We have defined the model and processed the training data, now let's define a loss function and an optimizer. Since we are essentially performing binary classification, we will use the binary cross-entropy loss function. In addition, we will use the Adam optimizer to update the model parameters."
      ]
    },
    {
      "cell_type": "code",
      "execution_count": 151,
      "metadata": {
        "id": "t9IyVfknkhSv"
      },
      "outputs": [],
      "source": [
        "##### Your code starts here #####\n",
        "\n",
        "# Instantiate the model\n",
        "input_dim = X_tensor.shape[1]\n",
        "model = LinearModel(input_dim)\n",
        "# Define loss function\n",
        "criterion = torch.nn.BCELoss()\n",
        "# Define optimizer\n",
        "optimizer = torch.optim.Adam(model.parameters(), lr=0.1)"
      ]
    },
    {
      "cell_type": "markdown",
      "metadata": {
        "id": "5rkknNpQkhSv"
      },
      "source": [
        "Now let's implement the training loop to start training the model. Why do we need to train the model on the same data for multiple times (epochs)? (Answer in the markdown cell below)"
      ]
    },
    {
      "cell_type": "markdown",
      "metadata": {
        "id": "c3m-7mxBkhSv"
      },
      "source": [
        "To improve the performance.\n",
        "\n",
        "Gradient descent needs multiple tries to converge to optimal solution. Additionally, the model adjusts its weights continuously during training to minimize the loss function."
      ]
    },
    {
      "cell_type": "code",
      "execution_count": 152,
      "metadata": {
        "id": "T77DwlFCkhSv",
        "colab": {
          "base_uri": "https://localhost:8080/",
          "height": 0
        },
        "outputId": "9b6f5c70-e3b8-4401-efbd-bcd7efd29af1"
      },
      "outputs": [
        {
          "output_type": "stream",
          "name": "stdout",
          "text": [
            "0 loss: 20.86471\n",
            "10 loss: 2.64988\n",
            "20 loss: 1.37108\n",
            "30 loss: 0.62000\n",
            "40 loss: 0.55008\n",
            "50 loss: 0.51369\n",
            "60 loss: 0.49204\n",
            "70 loss: 0.48649\n",
            "80 loss: 0.48201\n",
            "90 loss: 0.47951\n"
          ]
        }
      ],
      "source": [
        "epochs = 100\n",
        "\n",
        "model.train()   # set the model to training mode\n",
        "\n",
        "##### Your code starts here #####\n",
        "\n",
        "def train(model, criterion, optimizer, X, y, epochs):\n",
        "    # Finish implementing the training loop\n",
        "    for epoch in range(epochs):\n",
        "        # Forward pass\n",
        "        output = model(X)\n",
        "\n",
        "        # Compute Loss\n",
        "        loss = criterion(output, y)\n",
        "\n",
        "        # Zero gradients, backward pass, update weights\n",
        "        optimizer.zero_grad()\n",
        "        loss.backward()\n",
        "        optimizer.step()\n",
        "\n",
        "        # print out the loss every 10 epochs\n",
        "        if epoch % 10 == 0:\n",
        "          print(f\"{epoch} loss: {loss.item():.5f}\")\n",
        "##### Your code ends here #####\n",
        "\n",
        "train(model, criterion, optimizer, X_tensor, y_tensor, epochs)"
      ]
    },
    {
      "cell_type": "markdown",
      "metadata": {
        "id": "NzC7F1-NkhSv"
      },
      "source": [
        "### Question 2.4: Evaluation and Conclusion (30 points)\n",
        "Let's start by defining some metrics to evaluate the model. In this question, you will implement accuracy and mean squared error metrics."
      ]
    },
    {
      "cell_type": "code",
      "execution_count": 153,
      "metadata": {
        "id": "Zs7LttmqkhSw"
      },
      "outputs": [],
      "source": [
        "##### Your code starts here #####\n",
        "\n",
        "# Implement a function to calculate the accuracy of the model\n",
        "def accuracy(y_pred, y_true):\n",
        "    y_label = (y_pred >= 0.5).float() # threshhold = 0.5\n",
        "    correct = (y_label == y_true).sum().item()\n",
        "    total = y_true.shape[0]\n",
        "    return correct / total\n",
        "\n",
        "# Implement a function to calculate the mean squared error of the model\n",
        "def mse(y_pred, y_true):\n",
        "    n = y_true.shape[0]\n",
        "    square_error = (y_pred - y_true) ** 2\n",
        "    mse = sum(square_error) / n\n",
        "    return mse"
      ]
    },
    {
      "cell_type": "markdown",
      "metadata": {
        "id": "haoUgSaukhSz"
      },
      "source": [
        "Next, let's evaluate the model on the test dataset using the metrics you have implemented. You should get an accuracy above 80%. If not, rerun the training process again until you get an accuracy above 80%. Explain why we get different results each time we train the model. Are there other ways to ensure we get a representative result? (Answer in the markdown cell below)"
      ]
    },
    {
      "cell_type": "markdown",
      "metadata": {
        "id": "Oo7KWvq_khSz"
      },
      "source": [
        "When starting a new training, the model gets a random initail weight. Additionally, due to the stochastic nature of the optimizer and the selection of training data batches, the model will get different optimization each time.\n",
        "As a result, we get different results every time.\n",
        "\n",
        "To ensure we get representative result, we can set specific random seed to get fixed weights and training data batches, or train for more epochs."
      ]
    },
    {
      "cell_type": "code",
      "execution_count": 154,
      "metadata": {
        "id": "Tz6yV_m2khSz",
        "colab": {
          "base_uri": "https://localhost:8080/",
          "height": 0
        },
        "outputId": "7ec7a68c-bc6c-46b7-f059-43afadf76d17"
      },
      "outputs": [
        {
          "output_type": "stream",
          "name": "stdout",
          "text": [
            "Test Accuracy: 96.65%\n",
            "Test MSE: tensor([0.0706])\n"
          ]
        }
      ],
      "source": [
        "model.eval()            # set the model to evaluation mode\n",
        "\n",
        "##### Your code starts here #####\n",
        "\n",
        "with torch.no_grad():   # turn off gradients\n",
        "    # Implement testing and print out the accuracy and mean squared error\n",
        "    test_output = model(test_X_tensor)\n",
        "    test_accuracy = accuracy(test_output, test_y_tensor)\n",
        "    test_mse = mse(test_output, test_y_tensor)\n",
        "\n",
        "print(f\"Test Accuracy: {test_accuracy * 100:.2f}%\")\n",
        "print(f\"Test MSE: {test_mse}\")"
      ]
    },
    {
      "cell_type": "markdown",
      "metadata": {
        "id": "putOjuF_khS0"
      },
      "source": [
        "Finally, let's draw some conclusions based on the model you just trained. We will use the weights of the model to directly interpret the importance of each feature in predicting survival. Why is this possible? (Answer in the markdown cell below)"
      ]
    },
    {
      "cell_type": "markdown",
      "metadata": {
        "id": "SdHfgpYekhS0"
      },
      "source": [
        "Since the weights in a linear model directly show how each feature affects the prediction, we can know which features matter most by looking at their coefficients. This makes linear models easy to interpret and helps us see how different factors influence survival."
      ]
    },
    {
      "cell_type": "code",
      "execution_count": 155,
      "metadata": {
        "id": "bgEW1hcLkhS0",
        "colab": {
          "base_uri": "https://localhost:8080/",
          "height": 705
        },
        "outputId": "9f31f906-928f-4182-9d47-a0a2a9c32dcf"
      },
      "outputs": [
        {
          "output_type": "stream",
          "name": "stdout",
          "text": [
            "      Feature  Coefficient\n",
            "6  Embarked_Q     0.132954\n",
            "7  Embarked_S     0.106140\n",
            "4        Fare     0.014540\n",
            "1         Age    -0.004586\n",
            "3       Parch    -0.111638\n",
            "0      Pclass    -0.144436\n",
            "2       SibSp    -0.292206\n",
            "5    Sex_male    -2.327243\n"
          ]
        },
        {
          "output_type": "display_data",
          "data": {
            "text/plain": [
              "<Figure size 1000x600 with 1 Axes>"
            ],
            "image/png": "[encoded data removed]"
          },
          "metadata": {}
        }
      ],
      "source": [
        "import matplotlib.pyplot as plt\n",
        "\n",
        "# Extract coefficients from the model\n",
        "coefficients = model.linear.weight.detach().numpy().flatten()\n",
        "X = pd.DataFrame(X, columns=cleaned_data.columns[1:])\n",
        "features = X.columns\n",
        "\n",
        "# Create a DataFrame for better visualization\n",
        "coef_df = pd.DataFrame({\n",
        "    \"Feature\": features,\n",
        "    \"Coefficient\": coefficients\n",
        "}).sort_values(by=\"Coefficient\", ascending=False)\n",
        "\n",
        "\n",
        "##### Your code starts here #####\n",
        "\n",
        "# Print the coefficients\n",
        "print(coef_df)\n",
        "\n",
        "# Plot the coefficients with a bar chart\n",
        "plt.figure(figsize=(10, 6))\n",
        "plt.barh(coef_df[\"Feature\"], coef_df[\"Coefficient\"], color=\"skyblue\")\n",
        "plt.xlabel(\"Coefficient\")\n",
        "plt.ylabel(\"Feature\")\n",
        "plt.gca().invert_yaxis()  # display the highest coefficient on top\n",
        "plt.show()"
      ]
    },
    {
      "cell_type": "markdown",
      "metadata": {
        "id": "1SqCmUaFkhS0"
      },
      "source": [
        "Does the result align with your intuition? Why or why not? According to your results, what is the biggest contributing factor of survival? (Answer in the markdown cell below)"
      ]
    },
    {
      "cell_type": "markdown",
      "metadata": {
        "id": "8xMNBdq0khS0"
      },
      "source": [
        "It mostly aligns with my intuition. I assume passengers with higher social status(who paid more for fares and had higher classes) would have a slightly higher survival chance. And we all know that women and children were prioritized during evacuation. What surprises me is that age has only a minor effect on survival.\n",
        "\n",
        "In my training set, the biggest factor contributing to survival was \"Embarked\"(which I don't quite understand), while being male strongly reduced the survival chance."
      ]
    },
    {
      "cell_type": "markdown",
      "metadata": {
        "id": "KUgbV87KkhS0"
      },
      "source": [
        "## Statement of Collaboration\n",
        "\n",
        "It is mandatory to include a Statement of Collaboration in each submission, with respect to the guidelines below.\n",
        "Include the names of everyone involved in the discussions (especially in-person ones), and what was discussed.\n",
        "\n",
        "All students are required to follow the academic honesty guidelines posted on the course website.\n",
        "For programming assignments, in particular, I encourage the students to organize (perhaps using Ed) to discuss the task descriptions, requirements, bugs in my code, and the relevant technical content before they start working on it.\n",
        "\n",
        "However, you should not discuss the specific solutions, and, as a guiding principle, you are not allowed to take anything written or drawn away from these discussions (i.e. no photographs of the blackboard, written notes, referring to Ed, etc.).\n",
        "\n",
        "Especially after you have started working on the assignment, try to restrict the discussion to Ed as much as possible, so that there is no doubt as to the extent of your collaboration."
      ]
    },
    {
      "cell_type": "markdown",
      "metadata": {
        "id": "9F0uXCSSkhS0"
      },
      "source": [
        "**Statement of Collaboration:** I completed this assignment independently and did not collaborate or discuss the work with anyone.\n",
        "\n",
        "reference: https://pytorch.org/tutorials/beginner/pytorch_with_examples.html"
      ]
    }
  ],
  "metadata": {
    "kernelspec": {
      "display_name": "base",
      "language": "python",
      "name": "python3"
    },
    "language_info": {
      "codemirror_mode": {
        "name": "ipython",
        "version": 3
      },
      "file_extension": ".py",
      "mimetype": "text/x-python",
      "name": "python",
      "nbconvert_exporter": "python",
      "pygments_lexer": "ipython3",
      "version": "3.11.8"
    },
    "colab": {
      "provenance": []
    }
  },
  "nbformat": 4,
  "nbformat_minor": 0
}